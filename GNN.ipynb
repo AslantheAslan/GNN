{
  "nbformat": 4,
  "nbformat_minor": 0,
  "metadata": {
    "colab": {
      "name": "GNN.ipynb",
      "provenance": [],
      "collapsed_sections": [],
      "authorship_tag": "ABX9TyPtxsSlXTbkhVUNW4pq1Hfh",
      "include_colab_link": true
    },
    "kernelspec": {
      "name": "python3",
      "display_name": "Python 3"
    },
    "language_info": {
      "name": "python"
    }
  },
  "cells": [
    {
      "cell_type": "markdown",
      "metadata": {
        "id": "view-in-github",
        "colab_type": "text"
      },
      "source": [
        "<a href=\"https://colab.research.google.com/github/AslantheAslan/GNN/blob/main/GNN.ipynb\" target=\"_parent\"><img src=\"https://colab.research.google.com/assets/colab-badge.svg\" alt=\"Open In Colab\"/></a>"
      ]
    },
    {
      "cell_type": "code",
      "metadata": {
        "colab": {
          "base_uri": "https://localhost:8080/"
        },
        "id": "goLGXlvbIRuQ",
        "outputId": "f0987156-9fd3-4069-fe67-4193b986f106"
      },
      "source": [
        "#!pip install numpy\n",
        "#!pip install tensorflow==2.3.0 \n",
        "#!pip install spektral==0.6.2\n",
        "\n",
        "import numpy as np\n",
        "import tensorflow as tf\n",
        "import spektral\n",
        "print(tf.__version__)\n",
        "print(spektral.__version__)"
      ],
      "execution_count": null,
      "outputs": [
        {
          "output_type": "stream",
          "name": "stdout",
          "text": [
            "Collecting spektral==0.6.2\n",
            "  Downloading spektral-0.6.2-py3-none-any.whl (95 kB)\n",
            "\u001b[?25l\r\u001b[K     |███▍                            | 10 kB 15.3 MB/s eta 0:00:01\r\u001b[K     |██████▉                         | 20 kB 19.5 MB/s eta 0:00:01\r\u001b[K     |██████████▎                     | 30 kB 22.1 MB/s eta 0:00:01\r\u001b[K     |█████████████▊                  | 40 kB 12.7 MB/s eta 0:00:01\r\u001b[K     |█████████████████▏              | 51 kB 10.1 MB/s eta 0:00:01\r\u001b[K     |████████████████████▋           | 61 kB 9.8 MB/s eta 0:00:01\r\u001b[K     |████████████████████████        | 71 kB 7.5 MB/s eta 0:00:01\r\u001b[K     |███████████████████████████▌    | 81 kB 8.2 MB/s eta 0:00:01\r\u001b[K     |███████████████████████████████ | 92 kB 7.9 MB/s eta 0:00:01\r\u001b[K     |████████████████████████████████| 95 kB 2.7 MB/s \n",
            "\u001b[?25hRequirement already satisfied: lxml in /usr/local/lib/python3.7/dist-packages (from spektral==0.6.2) (4.2.6)\n",
            "Requirement already satisfied: requests in /usr/local/lib/python3.7/dist-packages (from spektral==0.6.2) (2.23.0)\n",
            "Requirement already satisfied: joblib in /usr/local/lib/python3.7/dist-packages (from spektral==0.6.2) (1.1.0)\n",
            "Requirement already satisfied: numpy in /usr/local/lib/python3.7/dist-packages (from spektral==0.6.2) (1.19.5)\n",
            "Requirement already satisfied: pandas in /usr/local/lib/python3.7/dist-packages (from spektral==0.6.2) (1.1.5)\n",
            "Requirement already satisfied: networkx in /usr/local/lib/python3.7/dist-packages (from spektral==0.6.2) (2.6.3)\n",
            "Requirement already satisfied: tensorflow>=2.1.0 in /usr/local/lib/python3.7/dist-packages (from spektral==0.6.2) (2.7.0)\n",
            "Requirement already satisfied: scikit-learn in /usr/local/lib/python3.7/dist-packages (from spektral==0.6.2) (1.0.1)\n",
            "Requirement already satisfied: scipy in /usr/local/lib/python3.7/dist-packages (from spektral==0.6.2) (1.4.1)\n",
            "Requirement already satisfied: libclang>=9.0.1 in /usr/local/lib/python3.7/dist-packages (from tensorflow>=2.1.0->spektral==0.6.2) (12.0.0)\n",
            "Requirement already satisfied: wrapt>=1.11.0 in /usr/local/lib/python3.7/dist-packages (from tensorflow>=2.1.0->spektral==0.6.2) (1.13.3)\n",
            "Requirement already satisfied: protobuf>=3.9.2 in /usr/local/lib/python3.7/dist-packages (from tensorflow>=2.1.0->spektral==0.6.2) (3.17.3)\n",
            "Requirement already satisfied: tensorboard~=2.6 in /usr/local/lib/python3.7/dist-packages (from tensorflow>=2.1.0->spektral==0.6.2) (2.7.0)\n",
            "Requirement already satisfied: tensorflow-io-gcs-filesystem>=0.21.0 in /usr/local/lib/python3.7/dist-packages (from tensorflow>=2.1.0->spektral==0.6.2) (0.22.0)\n",
            "Requirement already satisfied: keras<2.8,>=2.7.0rc0 in /usr/local/lib/python3.7/dist-packages (from tensorflow>=2.1.0->spektral==0.6.2) (2.7.0)\n",
            "Requirement already satisfied: wheel<1.0,>=0.32.0 in /usr/local/lib/python3.7/dist-packages (from tensorflow>=2.1.0->spektral==0.6.2) (0.37.0)\n",
            "Requirement already satisfied: typing-extensions>=3.6.6 in /usr/local/lib/python3.7/dist-packages (from tensorflow>=2.1.0->spektral==0.6.2) (3.10.0.2)\n",
            "Requirement already satisfied: h5py>=2.9.0 in /usr/local/lib/python3.7/dist-packages (from tensorflow>=2.1.0->spektral==0.6.2) (3.1.0)\n",
            "Requirement already satisfied: termcolor>=1.1.0 in /usr/local/lib/python3.7/dist-packages (from tensorflow>=2.1.0->spektral==0.6.2) (1.1.0)\n",
            "Requirement already satisfied: tensorflow-estimator<2.8,~=2.7.0rc0 in /usr/local/lib/python3.7/dist-packages (from tensorflow>=2.1.0->spektral==0.6.2) (2.7.0)\n",
            "Requirement already satisfied: gast<0.5.0,>=0.2.1 in /usr/local/lib/python3.7/dist-packages (from tensorflow>=2.1.0->spektral==0.6.2) (0.4.0)\n",
            "Requirement already satisfied: grpcio<2.0,>=1.24.3 in /usr/local/lib/python3.7/dist-packages (from tensorflow>=2.1.0->spektral==0.6.2) (1.42.0)\n",
            "Requirement already satisfied: google-pasta>=0.1.1 in /usr/local/lib/python3.7/dist-packages (from tensorflow>=2.1.0->spektral==0.6.2) (0.2.0)\n",
            "Requirement already satisfied: astunparse>=1.6.0 in /usr/local/lib/python3.7/dist-packages (from tensorflow>=2.1.0->spektral==0.6.2) (1.6.3)\n",
            "Requirement already satisfied: flatbuffers<3.0,>=1.12 in /usr/local/lib/python3.7/dist-packages (from tensorflow>=2.1.0->spektral==0.6.2) (2.0)\n",
            "Requirement already satisfied: absl-py>=0.4.0 in /usr/local/lib/python3.7/dist-packages (from tensorflow>=2.1.0->spektral==0.6.2) (0.12.0)\n",
            "Requirement already satisfied: keras-preprocessing>=1.1.1 in /usr/local/lib/python3.7/dist-packages (from tensorflow>=2.1.0->spektral==0.6.2) (1.1.2)\n",
            "Requirement already satisfied: opt-einsum>=2.3.2 in /usr/local/lib/python3.7/dist-packages (from tensorflow>=2.1.0->spektral==0.6.2) (3.3.0)\n",
            "Requirement already satisfied: six>=1.12.0 in /usr/local/lib/python3.7/dist-packages (from tensorflow>=2.1.0->spektral==0.6.2) (1.15.0)\n",
            "Requirement already satisfied: cached-property in /usr/local/lib/python3.7/dist-packages (from h5py>=2.9.0->tensorflow>=2.1.0->spektral==0.6.2) (1.5.2)\n",
            "Requirement already satisfied: markdown>=2.6.8 in /usr/local/lib/python3.7/dist-packages (from tensorboard~=2.6->tensorflow>=2.1.0->spektral==0.6.2) (3.3.6)\n",
            "Requirement already satisfied: werkzeug>=0.11.15 in /usr/local/lib/python3.7/dist-packages (from tensorboard~=2.6->tensorflow>=2.1.0->spektral==0.6.2) (1.0.1)\n",
            "Requirement already satisfied: google-auth<3,>=1.6.3 in /usr/local/lib/python3.7/dist-packages (from tensorboard~=2.6->tensorflow>=2.1.0->spektral==0.6.2) (1.35.0)\n",
            "Requirement already satisfied: setuptools>=41.0.0 in /usr/local/lib/python3.7/dist-packages (from tensorboard~=2.6->tensorflow>=2.1.0->spektral==0.6.2) (57.4.0)\n",
            "Requirement already satisfied: google-auth-oauthlib<0.5,>=0.4.1 in /usr/local/lib/python3.7/dist-packages (from tensorboard~=2.6->tensorflow>=2.1.0->spektral==0.6.2) (0.4.6)\n",
            "Requirement already satisfied: tensorboard-data-server<0.7.0,>=0.6.0 in /usr/local/lib/python3.7/dist-packages (from tensorboard~=2.6->tensorflow>=2.1.0->spektral==0.6.2) (0.6.1)\n",
            "Requirement already satisfied: tensorboard-plugin-wit>=1.6.0 in /usr/local/lib/python3.7/dist-packages (from tensorboard~=2.6->tensorflow>=2.1.0->spektral==0.6.2) (1.8.0)\n",
            "Requirement already satisfied: cachetools<5.0,>=2.0.0 in /usr/local/lib/python3.7/dist-packages (from google-auth<3,>=1.6.3->tensorboard~=2.6->tensorflow>=2.1.0->spektral==0.6.2) (4.2.4)\n",
            "Requirement already satisfied: rsa<5,>=3.1.4 in /usr/local/lib/python3.7/dist-packages (from google-auth<3,>=1.6.3->tensorboard~=2.6->tensorflow>=2.1.0->spektral==0.6.2) (4.8)\n",
            "Requirement already satisfied: pyasn1-modules>=0.2.1 in /usr/local/lib/python3.7/dist-packages (from google-auth<3,>=1.6.3->tensorboard~=2.6->tensorflow>=2.1.0->spektral==0.6.2) (0.2.8)\n",
            "Requirement already satisfied: requests-oauthlib>=0.7.0 in /usr/local/lib/python3.7/dist-packages (from google-auth-oauthlib<0.5,>=0.4.1->tensorboard~=2.6->tensorflow>=2.1.0->spektral==0.6.2) (1.3.0)\n",
            "Requirement already satisfied: importlib-metadata>=4.4 in /usr/local/lib/python3.7/dist-packages (from markdown>=2.6.8->tensorboard~=2.6->tensorflow>=2.1.0->spektral==0.6.2) (4.8.2)\n",
            "Requirement already satisfied: zipp>=0.5 in /usr/local/lib/python3.7/dist-packages (from importlib-metadata>=4.4->markdown>=2.6.8->tensorboard~=2.6->tensorflow>=2.1.0->spektral==0.6.2) (3.6.0)\n",
            "Requirement already satisfied: pyasn1<0.5.0,>=0.4.6 in /usr/local/lib/python3.7/dist-packages (from pyasn1-modules>=0.2.1->google-auth<3,>=1.6.3->tensorboard~=2.6->tensorflow>=2.1.0->spektral==0.6.2) (0.4.8)\n",
            "Requirement already satisfied: urllib3!=1.25.0,!=1.25.1,<1.26,>=1.21.1 in /usr/local/lib/python3.7/dist-packages (from requests->spektral==0.6.2) (1.24.3)\n",
            "Requirement already satisfied: certifi>=2017.4.17 in /usr/local/lib/python3.7/dist-packages (from requests->spektral==0.6.2) (2021.10.8)\n",
            "Requirement already satisfied: idna<3,>=2.5 in /usr/local/lib/python3.7/dist-packages (from requests->spektral==0.6.2) (2.10)\n",
            "Requirement already satisfied: chardet<4,>=3.0.2 in /usr/local/lib/python3.7/dist-packages (from requests->spektral==0.6.2) (3.0.4)\n",
            "Requirement already satisfied: oauthlib>=3.0.0 in /usr/local/lib/python3.7/dist-packages (from requests-oauthlib>=0.7.0->google-auth-oauthlib<0.5,>=0.4.1->tensorboard~=2.6->tensorflow>=2.1.0->spektral==0.6.2) (3.1.1)\n",
            "Requirement already satisfied: python-dateutil>=2.7.3 in /usr/local/lib/python3.7/dist-packages (from pandas->spektral==0.6.2) (2.8.2)\n",
            "Requirement already satisfied: pytz>=2017.2 in /usr/local/lib/python3.7/dist-packages (from pandas->spektral==0.6.2) (2018.9)\n",
            "Requirement already satisfied: threadpoolctl>=2.0.0 in /usr/local/lib/python3.7/dist-packages (from scikit-learn->spektral==0.6.2) (3.0.0)\n",
            "Installing collected packages: spektral\n",
            "Successfully installed spektral-0.6.2\n",
            "2.7.0\n",
            "0.6.2\n"
          ]
        }
      ]
    },
    {
      "cell_type": "code",
      "metadata": {
        "colab": {
          "base_uri": "https://localhost:8080/"
        },
        "id": "ZRu_SdRVJVGA",
        "outputId": "5fef602c-6d6b-4ac9-d0d8-010831b81a7a"
      },
      "source": [
        "print(\"Aslan Hacı Ismail is the owner of this colab notebook\")\n",
        "\n",
        "adj, features, labels, train_mask, val_mask, test_mask = spektral.datasets.citation.load_data(dataset_name='cora')\n",
        "#it works for 'cora', 'pubmed', and 'citeseer'\n",
        "features = features.todense()\n",
        "adj = adj.todense() + np.eye(adj.shape[0])\n",
        "features = features.astype('float32')\n",
        "adj = adj.astype('float32')\n",
        "\n",
        "print(features.shape)\n",
        "print(adj.shape)\n",
        "print(labels.shape)\n",
        "\n",
        "print(np.sum(train_mask))\n",
        "print(np.sum(val_mask))\n",
        "print(np.sum(test_mask))"
      ],
      "execution_count": null,
      "outputs": [
        {
          "output_type": "stream",
          "name": "stdout",
          "text": [
            "Aslan Hacı Ismail is the owner of this colab notebook\n",
            "Loading cora dataset\n",
            "Pre-processing node features\n",
            "(2708, 1433)\n",
            "(2708, 2708)\n",
            "(2708, 7)\n",
            "140\n",
            "500\n",
            "1000\n"
          ]
        }
      ]
    },
    {
      "cell_type": "code",
      "source": [
        "print(adj)"
      ],
      "metadata": {
        "colab": {
          "base_uri": "https://localhost:8080/"
        },
        "id": "oWgxYYpikBc2",
        "outputId": "2ac2171b-0f87-438c-ffef-8ea14961fa06"
      },
      "execution_count": null,
      "outputs": [
        {
          "output_type": "stream",
          "name": "stdout",
          "text": [
            "[[1. 0. 0. ... 0. 0. 0.]\n",
            " [0. 1. 1. ... 0. 0. 0.]\n",
            " [0. 1. 1. ... 0. 0. 0.]\n",
            " ...\n",
            " [0. 0. 0. ... 1. 0. 0.]\n",
            " [0. 0. 0. ... 0. 1. 1.]\n",
            " [0. 0. 0. ... 0. 1. 1.]]\n"
          ]
        }
      ]
    },
    {
      "cell_type": "code",
      "metadata": {
        "id": "OeOGN4PNRpAE"
      },
      "source": [
        "def masked_softmax_cross_entropy(logits, labels, mask):\n",
        "  loss = tf.nn.softmax_cross_entropy_with_logits(logits=logits, labels=labels)\n",
        "  mask = tf.cast(mask, dtype = tf.float32)\n",
        "  mask /= tf.reduce_mean(mask)\n",
        "  loss *= mask\n",
        "  return tf.reduce_mean(loss)\n",
        "\n",
        "def masked_accuracy(logits, labels, mask):\n",
        "  correct_prediction = tf.equal(tf.argmax(logits, 1), tf.argmax(labels, 1))\n",
        "  accuracy_all = tf.cast(correct_prediction, tf.float32)\n",
        "  mask = tf.cast(mask, dtype=tf.float32)\n",
        "  mask /= tf.reduce_mean(mask)\n",
        "  accuracy_all *= mask\n",
        "  return tf.reduce_mean(accuracy_all)"
      ],
      "execution_count": null,
      "outputs": []
    },
    {
      "cell_type": "code",
      "metadata": {
        "id": "bdgTMZ4O0fj5"
      },
      "source": [
        "def gnn(fts, adj, transform, activation):\n",
        "  seq_fts = transform(fts)\n",
        "  ret_fts = tf.matmul(adj, seq_fts)\n",
        "  return activation(ret_fts)"
      ],
      "execution_count": null,
      "outputs": []
    },
    {
      "cell_type": "code",
      "metadata": {
        "id": "sIk4LXlM1Q0Y"
      },
      "source": [
        "def train_cora(fts, adj, gnn_fn, units, epochs, lr):\n",
        "  lyr_1 = tf.keras.layers.Dense(units)\n",
        "  lyr_2 = tf.keras.layers.Dense(7)\n",
        "\n",
        "  def cora_gnn(fts, adj):\n",
        "    hidden = gnn_fn(fts, adj, lyr_1, tf.nn.relu)\n",
        "    logits = gnn_fn(hidden, adj, lyr_2, tf.identity)\n",
        "    return logits\n",
        "\n",
        "  optimizer = tf.keras.optimizers.Adam(learning_rate=lr)\n",
        "\n",
        "  best_accuracy = 0.0\n",
        "  for ep in range(epochs + 1):\n",
        "    with tf.GradientTape() as t:\n",
        "      logits = cora_gnn(fts, adj)\n",
        "      loss = masked_softmax_cross_entropy(logits, labels, train_mask)\n",
        "\n",
        "    variables = t.watched_variables()\n",
        "    grads = t.gradient(loss, variables)\n",
        "    optimizer.apply_gradients(zip(grads, variables))\n",
        "\n",
        "    logits = cora_gnn(fts, adj)\n",
        "    val_accuracy = masked_accuracy(logits, labels, val_mask)\n",
        "    test_accuracy = masked_accuracy(logits, labels, test_mask)\n",
        "\n",
        "    if val_accuracy > best_accuracy:\n",
        "      best_accuracy = val_accuracy\n",
        "      print('Epoch', ep, '| Training loss:', loss.numpy(), '| Val accuracy:', val_accuracy.numpy(), '| Test accuracy:', test_accuracy.numpy())\n",
        "\n"
      ],
      "execution_count": null,
      "outputs": []
    },
    {
      "cell_type": "code",
      "metadata": {
        "colab": {
          "base_uri": "https://localhost:8080/"
        },
        "id": "Chy7r2GR7OQm",
        "outputId": "5ff2dbbd-ee15-43a5-bead-67be33e60a30"
      },
      "source": [
        "train_cora(features, adj, gnn, 32, 200, 0.01)\n",
        "#produces the maximum val accuracy of 79.4 and test accuracy of 77.2 for 'pubmed' dataset.\n",
        "#produces the maximum val accuracy of 66.8 and test accuracy of 65.7 for 'citeseer' dataset."
      ],
      "execution_count": null,
      "outputs": [
        {
          "output_type": "stream",
          "name": "stdout",
          "text": [
            "Epoch 0 | Training loss: 2.045733 | Val accuracy: 0.188 | Test accuracy: 0.18499999\n",
            "Epoch 2 | Training loss: 1.6977042 | Val accuracy: 0.484 | Test accuracy: 0.527\n",
            "Epoch 3 | Training loss: 1.4164035 | Val accuracy: 0.67 | Test accuracy: 0.703\n",
            "Epoch 4 | Training loss: 1.2301356 | Val accuracy: 0.684 | Test accuracy: 0.677\n",
            "Epoch 6 | Training loss: 1.0825502 | Val accuracy: 0.69 | Test accuracy: 0.682\n",
            "Epoch 7 | Training loss: 0.9989937 | Val accuracy: 0.72999996 | Test accuracy: 0.729\n",
            "Epoch 8 | Training loss: 0.9167713 | Val accuracy: 0.742 | Test accuracy: 0.74999994\n",
            "Epoch 9 | Training loss: 0.84682935 | Val accuracy: 0.76000005 | Test accuracy: 0.766\n",
            "Epoch 10 | Training loss: 0.7806585 | Val accuracy: 0.77599996 | Test accuracy: 0.7859999\n"
          ]
        }
      ]
    },
    {
      "cell_type": "code",
      "metadata": {
        "id": "jglIwBWKJGQS",
        "colab": {
          "base_uri": "https://localhost:8080/"
        },
        "outputId": "4af413d0-a491-49c9-b1d2-e51c38fb2a54"
      },
      "source": [
        "train_cora(features, tf.eye(adj.shape[0]), gnn, 32, 200, 0.01)\n",
        "#the same algorithm produces the maximum val accuracy of 69.0 and test accuracy of 70.49 for 'pubmed' dataset.\n",
        "#produces the maximum val accuracy of 50.6 and test accuracy of 52.7 for 'citeseer' dataset.\n"
      ],
      "execution_count": null,
      "outputs": [
        {
          "output_type": "stream",
          "name": "stdout",
          "text": [
            "Epoch 0 | Training loss: 1.9462022 | Val accuracy: 0.222 | Test accuracy: 0.183\n",
            "Epoch 1 | Training loss: 1.9308687 | Val accuracy: 0.28599998 | Test accuracy: 0.3\n",
            "Epoch 2 | Training loss: 1.9107335 | Val accuracy: 0.468 | Test accuracy: 0.44599998\n",
            "Epoch 3 | Training loss: 1.8855045 | Val accuracy: 0.508 | Test accuracy: 0.49899998\n",
            "Epoch 4 | Training loss: 1.85642 | Val accuracy: 0.53 | Test accuracy: 0.48799998\n",
            "Epoch 5 | Training loss: 1.8248341 | Val accuracy: 0.536 | Test accuracy: 0.49299997\n",
            "Epoch 6 | Training loss: 1.7902638 | Val accuracy: 0.552 | Test accuracy: 0.49699998\n"
          ]
        }
      ]
    },
    {
      "cell_type": "code",
      "metadata": {
        "colab": {
          "base_uri": "https://localhost:8080/"
        },
        "id": "jqPQKocoKbwY",
        "outputId": "7bd0cff0-dcca-4990-8e3c-da1cf6d6b616"
      },
      "source": [
        "deg = tf.reduce_sum(adj, axis=-1)\n",
        "train_cora(features, adj / deg, gnn, 32, 200, 0.01)\n",
        "#the same algorithm produces the maximum val accuracy of 76.0 and test accuracy of 75.4 for 'pubmed' dataset.\n",
        "#produces the maximum val accuracy of 68.4 and test accuracy of 66.5 for 'citeseer' dataset."
      ],
      "execution_count": null,
      "outputs": [
        {
          "output_type": "stream",
          "name": "stdout",
          "text": [
            "Epoch 0 | Training loss: 1.9459122 | Val accuracy: 0.121999994 | Test accuracy: 0.13\n",
            "Epoch 4 | Training loss: 1.8753542 | Val accuracy: 0.124 | Test accuracy: 0.149\n",
            "Epoch 5 | Training loss: 1.8528135 | Val accuracy: 0.14999999 | Test accuracy: 0.17499998\n",
            "Epoch 6 | Training loss: 1.8286971 | Val accuracy: 0.17999999 | Test accuracy: 0.21499999\n",
            "Epoch 7 | Training loss: 1.8020357 | Val accuracy: 0.20799999 | Test accuracy: 0.24199998\n",
            "Epoch 8 | Training loss: 1.7736503 | Val accuracy: 0.232 | Test accuracy: 0.264\n",
            "Epoch 9 | Training loss: 1.7427189 | Val accuracy: 0.254 | Test accuracy: 0.298\n",
            "Epoch 10 | Training loss: 1.7098124 | Val accuracy: 0.302 | Test accuracy: 0.322\n",
            "Epoch 11 | Training loss: 1.6757282 | Val accuracy: 0.35399997 | Test accuracy: 0.369\n",
            "Epoch 12 | Training loss: 1.6404551 | Val accuracy: 0.40399998 | Test accuracy: 0.41599998\n",
            "Epoch 13 | Training loss: 1.6035055 | Val accuracy: 0.452 | Test accuracy: 0.47599998\n",
            "Epoch 14 | Training loss: 1.5647258 | Val accuracy: 0.516 | Test accuracy: 0.537\n",
            "Epoch 15 | Training loss: 1.5242814 | Val accuracy: 0.59 | Test accuracy: 0.61\n",
            "Epoch 16 | Training loss: 1.4823773 | Val accuracy: 0.634 | Test accuracy: 0.64500004\n",
            "Epoch 17 | Training loss: 1.4390979 | Val accuracy: 0.66 | Test accuracy: 0.68\n",
            "Epoch 18 | Training loss: 1.3945211 | Val accuracy: 0.69 | Test accuracy: 0.715\n",
            "Epoch 19 | Training loss: 1.3488432 | Val accuracy: 0.714 | Test accuracy: 0.72400004\n",
            "Epoch 20 | Training loss: 1.3022788 | Val accuracy: 0.72999996 | Test accuracy: 0.738\n",
            "Epoch 21 | Training loss: 1.2550243 | Val accuracy: 0.73999995 | Test accuracy: 0.752\n",
            "Epoch 22 | Training loss: 1.2072409 | Val accuracy: 0.74599993 | Test accuracy: 0.75899994\n",
            "Epoch 23 | Training loss: 1.1591319 | Val accuracy: 0.76399994 | Test accuracy: 0.77199996\n",
            "Epoch 24 | Training loss: 1.1109022 | Val accuracy: 0.77599996 | Test accuracy: 0.7779999\n",
            "Epoch 25 | Training loss: 1.0627772 | Val accuracy: 0.78 | Test accuracy: 0.78999996\n",
            "Epoch 26 | Training loss: 1.0149714 | Val accuracy: 0.782 | Test accuracy: 0.79799986\n",
            "Epoch 27 | Training loss: 0.9676844 | Val accuracy: 0.78800005 | Test accuracy: 0.80299985\n"
          ]
        }
      ]
    },
    {
      "cell_type": "code",
      "metadata": {
        "colab": {
          "base_uri": "https://localhost:8080/"
        },
        "id": "WFoO7RkgK6Xv",
        "outputId": "4ba2aa60-2f65-4595-e034-4e9b9b961d39"
      },
      "source": [
        "norm_deg = tf.linalg.diag(1.0 / tf.sqrt(deg))\n",
        "norm_adj = tf.matmul(norm_deg, tf.matmul(adj, norm_deg))\n",
        "train_cora(features, norm_adj, gnn, 32, 200, 0.01)\n",
        "#the same algorithm produces the maximum val accuracy of 78.2 and test accuracy of 76.3 for 'pubmed' dataset.\n",
        "#produces the maximum val accuracy of 68.2 and test accuracy of 67.7 for 'citeseer' dataset."
      ],
      "execution_count": 107,
      "outputs": [
        {
          "output_type": "stream",
          "name": "stdout",
          "text": [
            "Epoch 0 | Training loss: 1.9459555 | Val accuracy: 0.19999999 | Test accuracy: 0.22599998\n",
            "Epoch 3 | Training loss: 1.9009651 | Val accuracy: 0.20199999 | Test accuracy: 0.22799999\n",
            "Epoch 4 | Training loss: 1.88024 | Val accuracy: 0.26 | Test accuracy: 0.29299998\n",
            "Epoch 5 | Training loss: 1.858334 | Val accuracy: 0.334 | Test accuracy: 0.35500002\n",
            "Epoch 6 | Training loss: 1.8346263 | Val accuracy: 0.38399997 | Test accuracy: 0.41400003\n",
            "Epoch 7 | Training loss: 1.8088305 | Val accuracy: 0.438 | Test accuracy: 0.466\n",
            "Epoch 8 | Training loss: 1.7813953 | Val accuracy: 0.50200003 | Test accuracy: 0.511\n",
            "Epoch 9 | Training loss: 1.7522472 | Val accuracy: 0.53800005 | Test accuracy: 0.559\n",
            "Epoch 10 | Training loss: 1.7215056 | Val accuracy: 0.58199996 | Test accuracy: 0.60499996\n",
            "Epoch 11 | Training loss: 1.6888312 | Val accuracy: 0.612 | Test accuracy: 0.636\n",
            "Epoch 12 | Training loss: 1.6542604 | Val accuracy: 0.636 | Test accuracy: 0.662\n",
            "Epoch 13 | Training loss: 1.6179273 | Val accuracy: 0.664 | Test accuracy: 0.685\n",
            "Epoch 14 | Training loss: 1.5799332 | Val accuracy: 0.682 | Test accuracy: 0.71\n",
            "Epoch 15 | Training loss: 1.5403733 | Val accuracy: 0.69600004 | Test accuracy: 0.72800004\n",
            "Epoch 16 | Training loss: 1.4993066 | Val accuracy: 0.70600003 | Test accuracy: 0.745\n",
            "Epoch 17 | Training loss: 1.4567684 | Val accuracy: 0.72 | Test accuracy: 0.75299996\n",
            "Epoch 18 | Training loss: 1.4128731 | Val accuracy: 0.73399997 | Test accuracy: 0.76199996\n",
            "Epoch 19 | Training loss: 1.3677535 | Val accuracy: 0.74399996 | Test accuracy: 0.7689999\n",
            "Epoch 20 | Training loss: 1.3215607 | Val accuracy: 0.75200003 | Test accuracy: 0.77399987\n",
            "Epoch 21 | Training loss: 1.2744901 | Val accuracy: 0.758 | Test accuracy: 0.7799999\n",
            "Epoch 22 | Training loss: 1.2267289 | Val accuracy: 0.76000005 | Test accuracy: 0.7809999\n",
            "Epoch 23 | Training loss: 1.1784495 | Val accuracy: 0.76400006 | Test accuracy: 0.7809999\n",
            "Epoch 24 | Training loss: 1.129844 | Val accuracy: 0.77199996 | Test accuracy: 0.7839999\n",
            "Epoch 25 | Training loss: 1.0811176 | Val accuracy: 0.774 | Test accuracy: 0.7819999\n",
            "Epoch 26 | Training loss: 1.0324913 | Val accuracy: 0.7799999 | Test accuracy: 0.7849999\n",
            "Epoch 35 | Training loss: 0.6294995 | Val accuracy: 0.78 | Test accuracy: 0.8079998\n",
            "Epoch 40 | Training loss: 0.45675394 | Val accuracy: 0.782 | Test accuracy: 0.8029998\n",
            "Epoch 41 | Training loss: 0.4275712 | Val accuracy: 0.784 | Test accuracy: 0.8029998\n",
            "Epoch 100 | Training loss: 0.029223576 | Val accuracy: 0.786 | Test accuracy: 0.7959999\n",
            "Epoch 176 | Training loss: 0.008662835 | Val accuracy: 0.78800005 | Test accuracy: 0.78999996\n"
          ]
        }
      ]
    },
    {
      "cell_type": "code",
      "source": [
        "def normalize(data):\n",
        "    # Written from scratch by Aslan\n",
        "    def minmax2D(data):\n",
        "      best_min=9999999\n",
        "      best_max=-9999999\n",
        "      for i in range(len(data)):\n",
        "        for j in range(len(data[0])):\n",
        "          temp_min = min(data[i,j],best_min)\n",
        "          temp_max = max(data[i,j],best_max)\n",
        "          if temp_min < best_min:\n",
        "            best_min = temp_min\n",
        "          if temp_max > best_max:\n",
        "            best_max = temp_max\n",
        "      return [best_min, best_max]\n",
        "\n",
        "    normalized_fts = (data - minmax2D(data)[0]) / (minmax2D(data)[1] - minmax2D(data)[0])\n",
        "    return normalized_fts\n",
        "\n",
        "norm_fts = normalize(features)"
      ],
      "metadata": {
        "id": "d3vJVy014osL"
      },
      "execution_count": 104,
      "outputs": []
    },
    {
      "cell_type": "code",
      "source": [
        "# test the normalizer function\n",
        "import numpy as np\n",
        "\n",
        "random_data = np.random.randint(1, 100, size=(4,5))\n",
        "print(random_data)\n",
        "print(normalize(random_data))"
      ],
      "metadata": {
        "colab": {
          "base_uri": "https://localhost:8080/"
        },
        "id": "oxKsUxKA6Oaz",
        "outputId": "ba77f49d-6e81-42d6-a279-2b10632264df"
      },
      "execution_count": 105,
      "outputs": [
        {
          "output_type": "stream",
          "name": "stdout",
          "text": [
            "[[83 85 76 27 19]\n",
            " [24 39 49 90 64]\n",
            " [25 11 25 28 26]\n",
            " [44 65 64 26 28]]\n",
            "[[0.91139241 0.93670886 0.82278481 0.20253165 0.10126582]\n",
            " [0.16455696 0.35443038 0.48101266 1.         0.67088608]\n",
            " [0.17721519 0.         0.17721519 0.21518987 0.18987342]\n",
            " [0.41772152 0.6835443  0.67088608 0.18987342 0.21518987]]\n"
          ]
        }
      ]
    },
    {
      "cell_type": "code",
      "source": [
        "train_cora(norm_fts, norm_adj, gnn, 32, 200, 0.01)\n",
        "# after the normalization of features, test accuracy hasn't changed significantly. It is because the feature matrix only consist of 1's and 0's"
      ],
      "metadata": {
        "colab": {
          "base_uri": "https://localhost:8080/"
        },
        "id": "pakX0JWO8ukK",
        "outputId": "2dc6b81f-68ef-42ae-c705-19de2eaa258d"
      },
      "execution_count": 108,
      "outputs": [
        {
          "output_type": "stream",
          "name": "stdout",
          "text": [
            "Epoch 0 | Training loss: 1.955019 | Val accuracy: 0.52000004 | Test accuracy: 0.548\n",
            "Epoch 1 | Training loss: 1.7771242 | Val accuracy: 0.592 | Test accuracy: 0.642\n",
            "Epoch 3 | Training loss: 1.3254207 | Val accuracy: 0.602 | Test accuracy: 0.63500005\n",
            "Epoch 4 | Training loss: 1.1023406 | Val accuracy: 0.644 | Test accuracy: 0.66400003\n",
            "Epoch 5 | Training loss: 0.9003641 | Val accuracy: 0.69600004 | Test accuracy: 0.714\n",
            "Epoch 6 | Training loss: 0.720656 | Val accuracy: 0.72999996 | Test accuracy: 0.745\n",
            "Epoch 7 | Training loss: 0.5659827 | Val accuracy: 0.736 | Test accuracy: 0.7689999\n",
            "Epoch 8 | Training loss: 0.4380961 | Val accuracy: 0.774 | Test accuracy: 0.7889999\n",
            "Epoch 11 | Training loss: 0.19331741 | Val accuracy: 0.77599996 | Test accuracy: 0.8109998\n",
            "Epoch 12 | Training loss: 0.14655073 | Val accuracy: 0.7819999 | Test accuracy: 0.80899984\n",
            "Epoch 13 | Training loss: 0.11129642 | Val accuracy: 0.784 | Test accuracy: 0.80899984\n",
            "Epoch 14 | Training loss: 0.08471244 | Val accuracy: 0.78800005 | Test accuracy: 0.8059998\n",
            "Epoch 15 | Training loss: 0.06473179 | Val accuracy: 0.79 | Test accuracy: 0.7999999\n"
          ]
        }
      ]
    }
  ]
}